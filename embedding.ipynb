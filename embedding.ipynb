{
 "cells": [
  {
   "cell_type": "code",
   "execution_count": 4,
   "metadata": {},
   "outputs": [],
   "source": [
    "from gensim.test.utils import common_texts \n",
    "from gensim.utils import simple_preprocess\n",
    "from gensim.models.doc2vec import Doc2Vec, TaggedDocument\n",
    "import os \n",
    "\n",
    "documents = []\n",
    "\n",
    "for file in os.listdir(\"../data/files\"): \n",
    "    file_num = int(file[6:-4])\n",
    "    with open(f\"../data/files/{file}\") as f: \n",
    "        text = f.read() \n",
    "        tokens = simple_preprocess(text) \n",
    "        \n",
    "        documents.append(TaggedDocument(tokens, [file_num]))\n",
    "        "
   ]
  },
  {
   "cell_type": "code",
   "execution_count": 44,
   "metadata": {},
   "outputs": [
    {
     "name": "stderr",
     "output_type": "stream",
     "text": [
      "2023-07-17 14:08:51,107 : INFO : collecting all words and their counts\n",
      "2023-07-17 14:08:51,109 : INFO : PROGRESS: at example #0, processed 0 words (0 words/s), 0 word types, 0 tags\n",
      "2023-07-17 14:08:51,170 : INFO : collected 4513 word types and 808 unique tags from a corpus of 807 examples and 513945 words\n",
      "2023-07-17 14:08:51,171 : INFO : Creating a fresh vocabulary\n",
      "2023-07-17 14:08:51,184 : INFO : Doc2Vec lifecycle event {'msg': 'effective_min_count=1 retains 4513 unique words (100.00% of original 4513, drops 0)', 'datetime': '2023-07-17T14:08:51.184333', 'gensim': '4.3.0', 'python': '3.10.9 (main, Jan 11 2023, 15:21:40) [GCC 11.2.0]', 'platform': 'Linux-5.19.0-46-generic-x86_64-with-glibc2.35', 'event': 'prepare_vocab'}\n",
      "2023-07-17 14:08:51,185 : INFO : Doc2Vec lifecycle event {'msg': 'effective_min_count=1 leaves 513945 word corpus (100.00% of original 513945, drops 0)', 'datetime': '2023-07-17T14:08:51.185104', 'gensim': '4.3.0', 'python': '3.10.9 (main, Jan 11 2023, 15:21:40) [GCC 11.2.0]', 'platform': 'Linux-5.19.0-46-generic-x86_64-with-glibc2.35', 'event': 'prepare_vocab'}\n",
      "2023-07-17 14:08:51,220 : INFO : deleting the raw counts dictionary of 4513 items\n",
      "2023-07-17 14:08:51,221 : INFO : sample=0.001 downsamples 74 most-common words\n",
      "2023-07-17 14:08:51,221 : INFO : Doc2Vec lifecycle event {'msg': 'downsampling leaves estimated 368615.5520105333 word corpus (71.7%% of prior 513945)', 'datetime': '2023-07-17T14:08:51.221529', 'gensim': '4.3.0', 'python': '3.10.9 (main, Jan 11 2023, 15:21:40) [GCC 11.2.0]', 'platform': 'Linux-5.19.0-46-generic-x86_64-with-glibc2.35', 'event': 'prepare_vocab'}\n",
      "2023-07-17 14:08:51,273 : INFO : estimated required memory for 4513 words and 100 dimensions: 6351700 bytes\n",
      "2023-07-17 14:08:51,274 : INFO : resetting layer weights\n",
      "2023-07-17 14:08:51,278 : INFO : Doc2Vec lifecycle event {'msg': 'training model with 4 workers on 4513 vocabulary and 100 features, using sg=0 hs=0 sample=0.001 negative=5 window=2 shrink_windows=True', 'datetime': '2023-07-17T14:08:51.278223', 'gensim': '4.3.0', 'python': '3.10.9 (main, Jan 11 2023, 15:21:40) [GCC 11.2.0]', 'platform': 'Linux-5.19.0-46-generic-x86_64-with-glibc2.35', 'event': 'train'}\n",
      "2023-07-17 14:08:51,460 : INFO : EPOCH 0: training on 513945 raw words (369454 effective words) took 0.2s, 2050613 effective words/s\n",
      "2023-07-17 14:08:51,634 : INFO : EPOCH 1: training on 513945 raw words (369678 effective words) took 0.2s, 2144395 effective words/s\n",
      "2023-07-17 14:08:51,792 : INFO : EPOCH 2: training on 513945 raw words (369062 effective words) took 0.2s, 2363740 effective words/s\n",
      "2023-07-17 14:08:51,963 : INFO : EPOCH 3: training on 513945 raw words (369581 effective words) took 0.2s, 2180514 effective words/s\n",
      "2023-07-17 14:08:52,125 : INFO : EPOCH 4: training on 513945 raw words (369352 effective words) took 0.2s, 2306313 effective words/s\n",
      "2023-07-17 14:08:52,285 : INFO : EPOCH 5: training on 513945 raw words (369314 effective words) took 0.2s, 2323565 effective words/s\n",
      "2023-07-17 14:08:52,469 : INFO : EPOCH 6: training on 513945 raw words (369403 effective words) took 0.2s, 2017966 effective words/s\n",
      "2023-07-17 14:08:52,658 : INFO : EPOCH 7: training on 513945 raw words (369563 effective words) took 0.2s, 1977457 effective words/s\n",
      "2023-07-17 14:08:52,832 : INFO : EPOCH 8: training on 513945 raw words (369581 effective words) took 0.2s, 2135868 effective words/s\n",
      "2023-07-17 14:08:52,989 : INFO : EPOCH 9: training on 513945 raw words (369553 effective words) took 0.2s, 2370882 effective words/s\n",
      "2023-07-17 14:08:52,990 : INFO : Doc2Vec lifecycle event {'msg': 'training on 5139450 raw words (3694541 effective words) took 1.7s, 2159066 effective words/s', 'datetime': '2023-07-17T14:08:52.990338', 'gensim': '4.3.0', 'python': '3.10.9 (main, Jan 11 2023, 15:21:40) [GCC 11.2.0]', 'platform': 'Linux-5.19.0-46-generic-x86_64-with-glibc2.35', 'event': 'train'}\n",
      "2023-07-17 14:08:52,990 : INFO : Doc2Vec lifecycle event {'params': 'Doc2Vec<dm/m,d100,n5,w2,s0.001,t4>', 'datetime': '2023-07-17T14:08:52.990709', 'gensim': '4.3.0', 'python': '3.10.9 (main, Jan 11 2023, 15:21:40) [GCC 11.2.0]', 'platform': 'Linux-5.19.0-46-generic-x86_64-with-glibc2.35', 'event': 'created'}\n"
     ]
    }
   ],
   "source": [
    "model = Doc2Vec(documents, vector_size=100, window=2, min_count=1, workers=4)"
   ]
  },
  {
   "cell_type": "code",
   "execution_count": 45,
   "metadata": {},
   "outputs": [
    {
     "name": "stderr",
     "output_type": "stream",
     "text": [
      "2023-07-17 14:08:57,311 : INFO : collecting all words and their counts\n",
      "2023-07-17 14:08:57,312 : INFO : PROGRESS: at example #0, processed 0 words (0 words/s), 0 word types, 0 tags\n",
      "2023-07-17 14:08:57,371 : INFO : collected 4513 word types and 808 unique tags from a corpus of 807 examples and 513945 words\n",
      "2023-07-17 14:08:57,372 : INFO : Creating a fresh vocabulary\n",
      "2023-07-17 14:08:57,387 : INFO : Doc2Vec lifecycle event {'msg': 'effective_min_count=1 retains 4513 unique words (100.00% of original 4513, drops 0)', 'datetime': '2023-07-17T14:08:57.387212', 'gensim': '4.3.0', 'python': '3.10.9 (main, Jan 11 2023, 15:21:40) [GCC 11.2.0]', 'platform': 'Linux-5.19.0-46-generic-x86_64-with-glibc2.35', 'event': 'prepare_vocab'}\n",
      "2023-07-17 14:08:57,387 : INFO : Doc2Vec lifecycle event {'msg': 'effective_min_count=1 leaves 513945 word corpus (100.00% of original 513945, drops 0)', 'datetime': '2023-07-17T14:08:57.387863', 'gensim': '4.3.0', 'python': '3.10.9 (main, Jan 11 2023, 15:21:40) [GCC 11.2.0]', 'platform': 'Linux-5.19.0-46-generic-x86_64-with-glibc2.35', 'event': 'prepare_vocab'}\n",
      "2023-07-17 14:08:57,408 : INFO : deleting the raw counts dictionary of 4513 items\n",
      "2023-07-17 14:08:57,409 : INFO : sample=0.001 downsamples 74 most-common words\n",
      "2023-07-17 14:08:57,409 : INFO : Doc2Vec lifecycle event {'msg': 'downsampling leaves estimated 368615.5520105333 word corpus (71.7%% of prior 513945)', 'datetime': '2023-07-17T14:08:57.409639', 'gensim': '4.3.0', 'python': '3.10.9 (main, Jan 11 2023, 15:21:40) [GCC 11.2.0]', 'platform': 'Linux-5.19.0-46-generic-x86_64-with-glibc2.35', 'event': 'prepare_vocab'}\n",
      "2023-07-17 14:08:57,411 : WARNING : sorting after vectors have been allocated is expensive & error-prone\n",
      "2023-07-17 14:08:57,451 : INFO : estimated required memory for 4513 words and 100 dimensions: 6351700 bytes\n",
      "2023-07-17 14:08:57,452 : INFO : resetting layer weights\n"
     ]
    }
   ],
   "source": [
    "model.build_vocab(documents)"
   ]
  },
  {
   "cell_type": "code",
   "execution_count": 46,
   "metadata": {},
   "outputs": [
    {
     "name": "stdout",
     "output_type": "stream",
     "text": [
      "Word 'docker' appeared 228 times in the training corpus.\n"
     ]
    }
   ],
   "source": [
    "word = 'docker'\n",
    "print(f\"Word '{word}' appeared {model.wv.get_vecattr(word, 'count')} times in the training corpus.\")"
   ]
  },
  {
   "cell_type": "code",
   "execution_count": 43,
   "metadata": {},
   "outputs": [
    {
     "data": {
      "text/plain": [
       "(808, 50)"
      ]
     },
     "execution_count": 43,
     "metadata": {},
     "output_type": "execute_result"
    }
   ],
   "source": [
    "model.dv.vectors.shape"
   ]
  }
 ],
 "metadata": {
  "kernelspec": {
   "display_name": "dataplus",
   "language": "python",
   "name": "python3"
  },
  "language_info": {
   "codemirror_mode": {
    "name": "ipython",
    "version": 3
   },
   "file_extension": ".py",
   "mimetype": "text/x-python",
   "name": "python",
   "nbconvert_exporter": "python",
   "pygments_lexer": "ipython3",
   "version": "3.10.9"
  },
  "orig_nbformat": 4
 },
 "nbformat": 4,
 "nbformat_minor": 2
}
